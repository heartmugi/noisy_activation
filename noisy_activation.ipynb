{
  "nbformat": 4,
  "nbformat_minor": 0,
  "metadata": {
    "accelerator": "GPU",
    "colab": {
      "name": "noisy_activation.ipynb",
      "provenance": [],
      "collapsed_sections": [],
      "toc_visible": true
    },
    "kernelspec": {
      "display_name": "Python 3 (ipykernel)",
      "language": "python",
      "name": "python3"
    },
    "language_info": {
      "codemirror_mode": {
        "name": "ipython",
        "version": 3
      },
      "file_extension": ".py",
      "mimetype": "text/x-python",
      "name": "python",
      "nbconvert_exporter": "python",
      "pygments_lexer": "ipython3",
      "version": "3.7.11"
    }
  },
  "cells": [
    {
      "cell_type": "markdown",
      "metadata": {
        "id": "IpYgko9QarAK"
      },
      "source": [
        "# 準備"
      ]
    },
    {
      "cell_type": "markdown",
      "metadata": {
        "id": "pCaVa2R5bq_4"
      },
      "source": [
        "## artのインストール"
      ]
    },
    {
      "cell_type": "code",
      "metadata": {
        "id": "QoNsAnXUmgST",
        "outputId": "fa014099-6116-47c4-f284-7cf3635085d1",
        "colab": {
          "base_uri": "https://localhost:8080/"
        }
      },
      "source": [
        "!pip3 install adversarial-robustness-toolbox"
      ],
      "execution_count": 1,
      "outputs": [
        {
          "output_type": "stream",
          "name": "stdout",
          "text": [
            "Collecting adversarial-robustness-toolbox\n",
            "  Downloading adversarial_robustness_toolbox-1.10.0-py3-none-any.whl (1.3 MB)\n",
            "\u001b[K     |████████████████████████████████| 1.3 MB 5.1 MB/s \n",
            "\u001b[?25hRequirement already satisfied: scikit-learn<1.1.0,>=0.22.2 in /usr/local/lib/python3.7/dist-packages (from adversarial-robustness-toolbox) (1.0.2)\n",
            "Requirement already satisfied: tqdm in /usr/local/lib/python3.7/dist-packages (from adversarial-robustness-toolbox) (4.63.0)\n",
            "Requirement already satisfied: setuptools in /usr/local/lib/python3.7/dist-packages (from adversarial-robustness-toolbox) (57.4.0)\n",
            "Requirement already satisfied: numpy>=1.18.0 in /usr/local/lib/python3.7/dist-packages (from adversarial-robustness-toolbox) (1.21.5)\n",
            "Collecting numba>=0.53.1\n",
            "  Downloading numba-0.55.1-1-cp37-cp37m-manylinux2014_x86_64.manylinux_2_17_x86_64.whl (3.3 MB)\n",
            "\u001b[K     |████████████████████████████████| 3.3 MB 52.5 MB/s \n",
            "\u001b[?25hRequirement already satisfied: scipy>=1.4.1 in /usr/local/lib/python3.7/dist-packages (from adversarial-robustness-toolbox) (1.4.1)\n",
            "Requirement already satisfied: six in /usr/local/lib/python3.7/dist-packages (from adversarial-robustness-toolbox) (1.15.0)\n",
            "Collecting llvmlite<0.39,>=0.38.0rc1\n",
            "  Downloading llvmlite-0.38.0-cp37-cp37m-manylinux_2_17_x86_64.manylinux2014_x86_64.whl (34.5 MB)\n",
            "\u001b[K     |████████████████████████████████| 34.5 MB 13 kB/s \n",
            "\u001b[?25hRequirement already satisfied: joblib>=0.11 in /usr/local/lib/python3.7/dist-packages (from scikit-learn<1.1.0,>=0.22.2->adversarial-robustness-toolbox) (1.1.0)\n",
            "Requirement already satisfied: threadpoolctl>=2.0.0 in /usr/local/lib/python3.7/dist-packages (from scikit-learn<1.1.0,>=0.22.2->adversarial-robustness-toolbox) (3.1.0)\n",
            "Installing collected packages: llvmlite, numba, adversarial-robustness-toolbox\n",
            "  Attempting uninstall: llvmlite\n",
            "    Found existing installation: llvmlite 0.34.0\n",
            "    Uninstalling llvmlite-0.34.0:\n",
            "      Successfully uninstalled llvmlite-0.34.0\n",
            "  Attempting uninstall: numba\n",
            "    Found existing installation: numba 0.51.2\n",
            "    Uninstalling numba-0.51.2:\n",
            "      Successfully uninstalled numba-0.51.2\n",
            "Successfully installed adversarial-robustness-toolbox-1.10.0 llvmlite-0.38.0 numba-0.55.1\n"
          ]
        }
      ]
    },
    {
      "cell_type": "markdown",
      "metadata": {
        "id": "Us1-UrOXaw87"
      },
      "source": [
        "## ライブラリのインポート"
      ]
    },
    {
      "cell_type": "code",
      "metadata": {
        "id": "wF3Foi62mnPi"
      },
      "source": [
        "import random\n",
        "import numpy as np\n",
        "import matplotlib.pyplot as plt\n",
        "\n",
        "# TensorFlow with Keras.\n",
        "import tensorflow as tf\n",
        "import keras\n",
        "from keras.models import Model\n",
        "from keras.layers import Input, Dense, Flatten, Conv2D, Lambda\n",
        "from keras.layers import MaxPooling2D, GlobalAveragePooling2D, Dropout\n",
        "tf.compat.v1.disable_eager_execution()\n",
        "from keras import backend as K\n",
        "\n",
        "# ART\n",
        "import art\n",
        "from art.attacks.evasion import FastGradientMethod\n",
        "from art.estimators.classification import KerasClassifier"
      ],
      "execution_count": 2,
      "outputs": []
    },
    {
      "cell_type": "markdown",
      "metadata": {
        "id": "qsjVGzIwaz1c"
      },
      "source": [
        "## CIFAR10のロード・前処理"
      ]
    },
    {
      "cell_type": "code",
      "metadata": {
        "id": "NJn7yF4_mwM_",
        "colab": {
          "base_uri": "https://localhost:8080/"
        },
        "outputId": "9c3f3c83-2e86-40b4-f6f1-623c9cd3d7a5"
      },
      "source": [
        "# CIFAR10のロード。\n",
        "(X_train, y_train), (X_test, y_test) = tf.keras.datasets.cifar10.load_data()\n",
        "\n",
        "# CIFAR10のラベル。\n",
        "classes = ['airplane', 'automobile', 'bird', 'cat', 'deer', 'dog', 'frog', 'horse', 'ship', 'truck']\n",
        "num_classes = len(classes)"
      ],
      "execution_count": 3,
      "outputs": [
        {
          "output_type": "stream",
          "name": "stdout",
          "text": [
            "Downloading data from https://www.cs.toronto.edu/~kriz/cifar-10-python.tar.gz\n",
            "170500096/170498071 [==============================] - 3s 0us/step\n",
            "170508288/170498071 [==============================] - 3s 0us/step\n"
          ]
        }
      ]
    },
    {
      "cell_type": "code",
      "metadata": {
        "id": "9zOnIFWanCRE"
      },
      "source": [
        "# 正規化。\n",
        "X_train = X_train.astype('float32') / 255\n",
        "X_test = X_test.astype('float32') / 255\n",
        "\n",
        "# ラベルをOne-hot-vector化。\n",
        "y_train = tf.keras.utils.to_categorical(y_train, num_classes)\n",
        "y_test = tf.keras.utils.to_categorical(y_test, num_classes)"
      ],
      "execution_count": 4,
      "outputs": []
    },
    {
      "cell_type": "markdown",
      "metadata": {
        "id": "BIh32W6raz6l"
      },
      "source": [
        "# Classifierの作成\n",
        "\n"
      ]
    },
    {
      "cell_type": "markdown",
      "metadata": {
        "id": "VYm8pYF6btOr"
      },
      "source": [
        "## モデル定義"
      ]
    },
    {
      "cell_type": "code",
      "metadata": {
        "colab": {
          "base_uri": "https://localhost:8080/"
        },
        "id": "GkhVRmdcnG4G",
        "outputId": "2e31ad22-0e3c-4de2-edbe-2773d3c35abe"
      },
      "source": [
        "# モデルの定義。\n",
        "def simple_model():\n",
        "  inputs = Input(shape=(32, 32, 3))\n",
        "  x = Conv2D(64, (3, 3), padding='SAME', activation='relu')(inputs)\n",
        "  x = Conv2D(64, (3, 3), padding='SAME', activation='relu')(x)\n",
        "  x = Dropout(0.25)(x)\n",
        "  x = MaxPooling2D()(x)\n",
        "\n",
        "  x = Conv2D(128, (3,3), padding='SAME', activation='relu')(x)\n",
        "  x = Conv2D(128, (3,3), padding='SAME', activation='relu')(x)\n",
        "  x = Dropout(0.25)(x)\n",
        "  x = MaxPooling2D()(x)\n",
        "\n",
        "  x = Conv2D(256, (3,3), padding='SAME', activation='relu')(x)\n",
        "  x = Conv2D(256, (3,3), padding='SAME', activation='relu')(x)\n",
        "  x = GlobalAveragePooling2D()(x)\n",
        "\n",
        "  x = Dense(1024, activation='relu')(x)\n",
        "  x = Dropout(0.25)(x)\n",
        "  y = Dense(10, activation='softmax')(x)\n",
        "\n",
        "  return Model(inputs, y)\n",
        "\n",
        "model = simple_model()\n",
        "\n",
        "# モデルのコンパイル。\n",
        "model.compile(optimizer=tf.keras.optimizers.Adam(),\n",
        "              loss='categorical_crossentropy',\n",
        "              metrics=['accuracy'])\n",
        "model.summary()"
      ],
      "execution_count": 22,
      "outputs": [
        {
          "output_type": "stream",
          "name": "stdout",
          "text": [
            "Model: \"model_3\"\n",
            "_________________________________________________________________\n",
            " Layer (type)                Output Shape              Param #   \n",
            "=================================================================\n",
            " input_5 (InputLayer)        [(None, 32, 32, 3)]       0         \n",
            "                                                                 \n",
            " conv2d_24 (Conv2D)          (None, 32, 32, 64)        1792      \n",
            "                                                                 \n",
            " conv2d_25 (Conv2D)          (None, 32, 32, 64)        36928     \n",
            "                                                                 \n",
            " dropout_11 (Dropout)        (None, 32, 32, 64)        0         \n",
            "                                                                 \n",
            " max_pooling2d_8 (MaxPooling  (None, 16, 16, 64)       0         \n",
            " 2D)                                                             \n",
            "                                                                 \n",
            " conv2d_26 (Conv2D)          (None, 16, 16, 128)       73856     \n",
            "                                                                 \n",
            " conv2d_27 (Conv2D)          (None, 16, 16, 128)       147584    \n",
            "                                                                 \n",
            " dropout_12 (Dropout)        (None, 16, 16, 128)       0         \n",
            "                                                                 \n",
            " max_pooling2d_9 (MaxPooling  (None, 8, 8, 128)        0         \n",
            " 2D)                                                             \n",
            "                                                                 \n",
            " conv2d_28 (Conv2D)          (None, 8, 8, 256)         295168    \n",
            "                                                                 \n",
            " conv2d_29 (Conv2D)          (None, 8, 8, 256)         590080    \n",
            "                                                                 \n",
            " global_average_pooling2d_4   (None, 256)              0         \n",
            " (GlobalAveragePooling2D)                                        \n",
            "                                                                 \n",
            " dense_7 (Dense)             (None, 1024)              263168    \n",
            "                                                                 \n",
            " dropout_13 (Dropout)        (None, 1024)              0         \n",
            "                                                                 \n",
            " dense_8 (Dense)             (None, 10)                10250     \n",
            "                                                                 \n",
            "=================================================================\n",
            "Total params: 1,418,826\n",
            "Trainable params: 1,418,826\n",
            "Non-trainable params: 0\n",
            "_________________________________________________________________\n"
          ]
        }
      ]
    },
    {
      "cell_type": "markdown",
      "metadata": {
        "id": "gwFlvnrDbH7N"
      },
      "source": [
        "## 学習の実行"
      ]
    },
    {
      "cell_type": "code",
      "metadata": {
        "colab": {
          "base_uri": "https://localhost:8080/"
        },
        "id": "iRnFClSCnKP-",
        "outputId": "e96e4be0-48f4-4073-a016-1da86bd89162"
      },
      "source": [
        "# 学習の実行。\n",
        "model.fit(X_train, y_train,\n",
        "          batch_size=512,\n",
        "          epochs=30,\n",
        "          validation_data=(X_test, y_test),\n",
        "          shuffle=True)"
      ],
      "execution_count": 23,
      "outputs": [
        {
          "output_type": "stream",
          "name": "stdout",
          "text": [
            "Train on 50000 samples, validate on 10000 samples\n",
            "Epoch 1/30\n",
            "50000/50000 [==============================] - ETA: 0s - loss: 2.0326 - accuracy: 0.2100"
          ]
        },
        {
          "output_type": "stream",
          "name": "stderr",
          "text": [
            "/usr/local/lib/python3.7/dist-packages/keras/engine/training_v1.py:2057: UserWarning: `Model.state_updates` will be removed in a future version. This property should not be used in TensorFlow 2.0, as `updates` are applied automatically.\n",
            "  updates = self.state_updates\n"
          ]
        },
        {
          "output_type": "stream",
          "name": "stdout",
          "text": [
            "\b\b\b\b\b\b\b\b\b\b\b\b\b\b\b\b\b\b\b\b\b\b\b\b\b\b\b\b\b\b\b\b\b\b\b\b\b\b\b\b\b\b\b\b\b\b\b\b\b\b\b\b\b\b\b\b\b\b\b\b\b\b\b\b\b\b\b\b\b\b\b\b\b\b\b\b\b\b\b\b\b\b\b\b\b\b\b\b\r50000/50000 [==============================] - 19s 389us/sample - loss: 2.0326 - accuracy: 0.2100 - val_loss: 1.8400 - val_accuracy: 0.3029\n",
            "Epoch 2/30\n",
            "50000/50000 [==============================] - 19s 381us/sample - loss: 1.6524 - accuracy: 0.3681 - val_loss: 1.5085 - val_accuracy: 0.4491\n",
            "Epoch 3/30\n",
            "50000/50000 [==============================] - 19s 382us/sample - loss: 1.3717 - accuracy: 0.4924 - val_loss: 1.3872 - val_accuracy: 0.5069\n",
            "Epoch 4/30\n",
            "50000/50000 [==============================] - 19s 382us/sample - loss: 1.1750 - accuracy: 0.5698 - val_loss: 1.1580 - val_accuracy: 0.5847\n",
            "Epoch 5/30\n",
            "50000/50000 [==============================] - 19s 381us/sample - loss: 1.0366 - accuracy: 0.6254 - val_loss: 1.0494 - val_accuracy: 0.6341\n",
            "Epoch 6/30\n",
            "50000/50000 [==============================] - 19s 381us/sample - loss: 0.9161 - accuracy: 0.6710 - val_loss: 0.9941 - val_accuracy: 0.6463\n",
            "Epoch 7/30\n",
            "50000/50000 [==============================] - 19s 382us/sample - loss: 0.8350 - accuracy: 0.7012 - val_loss: 0.9019 - val_accuracy: 0.6898\n",
            "Epoch 8/30\n",
            "50000/50000 [==============================] - 19s 381us/sample - loss: 0.7571 - accuracy: 0.7308 - val_loss: 0.8328 - val_accuracy: 0.7129\n",
            "Epoch 9/30\n",
            "50000/50000 [==============================] - 19s 381us/sample - loss: 0.6864 - accuracy: 0.7566 - val_loss: 0.7897 - val_accuracy: 0.7262\n",
            "Epoch 10/30\n",
            "50000/50000 [==============================] - 19s 381us/sample - loss: 0.6195 - accuracy: 0.7813 - val_loss: 0.7241 - val_accuracy: 0.7520\n",
            "Epoch 11/30\n",
            "50000/50000 [==============================] - 19s 381us/sample - loss: 0.5681 - accuracy: 0.8004 - val_loss: 0.7000 - val_accuracy: 0.7585\n",
            "Epoch 12/30\n",
            "50000/50000 [==============================] - 19s 381us/sample - loss: 0.5487 - accuracy: 0.8076 - val_loss: 0.6798 - val_accuracy: 0.7623\n",
            "Epoch 13/30\n",
            "50000/50000 [==============================] - 19s 381us/sample - loss: 0.5011 - accuracy: 0.8256 - val_loss: 0.6151 - val_accuracy: 0.7902\n",
            "Epoch 14/30\n",
            "50000/50000 [==============================] - 19s 381us/sample - loss: 0.4529 - accuracy: 0.8437 - val_loss: 0.5950 - val_accuracy: 0.7961\n",
            "Epoch 15/30\n",
            "50000/50000 [==============================] - 19s 382us/sample - loss: 0.4285 - accuracy: 0.8509 - val_loss: 0.5996 - val_accuracy: 0.7925\n",
            "Epoch 16/30\n",
            "50000/50000 [==============================] - 19s 383us/sample - loss: 0.4043 - accuracy: 0.8598 - val_loss: 0.5754 - val_accuracy: 0.7991\n",
            "Epoch 17/30\n",
            "50000/50000 [==============================] - 19s 384us/sample - loss: 0.3674 - accuracy: 0.8712 - val_loss: 0.5752 - val_accuracy: 0.8000\n",
            "Epoch 18/30\n",
            "50000/50000 [==============================] - 19s 382us/sample - loss: 0.3431 - accuracy: 0.8798 - val_loss: 0.5411 - val_accuracy: 0.8107\n",
            "Epoch 19/30\n",
            "50000/50000 [==============================] - 19s 381us/sample - loss: 0.3245 - accuracy: 0.8865 - val_loss: 0.5601 - val_accuracy: 0.8079\n",
            "Epoch 20/30\n",
            "50000/50000 [==============================] - 19s 382us/sample - loss: 0.2866 - accuracy: 0.8991 - val_loss: 0.5476 - val_accuracy: 0.8122\n",
            "Epoch 21/30\n",
            "50000/50000 [==============================] - 19s 382us/sample - loss: 0.2518 - accuracy: 0.9121 - val_loss: 0.5630 - val_accuracy: 0.8065\n",
            "Epoch 22/30\n",
            "50000/50000 [==============================] - 19s 382us/sample - loss: 0.2363 - accuracy: 0.9161 - val_loss: 0.5412 - val_accuracy: 0.8184\n",
            "Epoch 23/30\n",
            "50000/50000 [==============================] - 19s 382us/sample - loss: 0.2184 - accuracy: 0.9222 - val_loss: 0.5159 - val_accuracy: 0.8240\n",
            "Epoch 24/30\n",
            "50000/50000 [==============================] - 19s 383us/sample - loss: 0.1977 - accuracy: 0.9302 - val_loss: 0.5237 - val_accuracy: 0.8251\n",
            "Epoch 25/30\n",
            "50000/50000 [==============================] - 19s 383us/sample - loss: 0.1796 - accuracy: 0.9371 - val_loss: 0.5205 - val_accuracy: 0.8286\n",
            "Epoch 26/30\n",
            "50000/50000 [==============================] - 19s 385us/sample - loss: 0.1645 - accuracy: 0.9418 - val_loss: 0.5384 - val_accuracy: 0.8296\n",
            "Epoch 27/30\n",
            "50000/50000 [==============================] - 19s 383us/sample - loss: 0.1565 - accuracy: 0.9461 - val_loss: 0.5578 - val_accuracy: 0.8219\n",
            "Epoch 28/30\n",
            "50000/50000 [==============================] - 19s 384us/sample - loss: 0.1287 - accuracy: 0.9554 - val_loss: 0.5734 - val_accuracy: 0.8255\n",
            "Epoch 29/30\n",
            "50000/50000 [==============================] - 19s 384us/sample - loss: 0.1172 - accuracy: 0.9585 - val_loss: 0.5657 - val_accuracy: 0.8286\n",
            "Epoch 30/30\n",
            "50000/50000 [==============================] - 19s 382us/sample - loss: 0.1129 - accuracy: 0.9604 - val_loss: 0.5955 - val_accuracy: 0.8272\n"
          ]
        },
        {
          "output_type": "execute_result",
          "data": {
            "text/plain": [
              "<keras.callbacks.History at 0x7f81d245be10>"
            ]
          },
          "metadata": {},
          "execution_count": 23
        }
      ]
    },
    {
      "cell_type": "markdown",
      "metadata": {
        "id": "l9TbV14fbSGI"
      },
      "source": [
        "## モデルの精度評価"
      ]
    },
    {
      "cell_type": "code",
      "metadata": {
        "id": "S656RWtknM8r",
        "outputId": "8dbf57d0-bc62-4d4b-bb40-017a850f00e2",
        "colab": {
          "base_uri": "https://localhost:8080/"
        }
      },
      "source": [
        "model.evaluate(X_test, y_test)"
      ],
      "execution_count": 24,
      "outputs": [
        {
          "output_type": "execute_result",
          "data": {
            "text/plain": [
              "[0.5955289076328277, 0.8272]"
            ]
          },
          "metadata": {},
          "execution_count": 24
        }
      ]
    },
    {
      "cell_type": "markdown",
      "metadata": {
        "id": "1P3oVot2qMdb"
      },
      "source": [
        "# Classifier(noisy activation)の作成"
      ]
    },
    {
      "cell_type": "markdown",
      "metadata": {
        "id": "jLjl3-B6qmH9"
      },
      "source": [
        "## noisy activationの作成"
      ]
    },
    {
      "cell_type": "code",
      "metadata": {
        "id": "K2lhq2tw5t8_"
      },
      "source": [
        "class NoisyActivation(tf.keras.layers.Layer):\n",
        "  def __init__(self, activation, seed, **kwargs) :\n",
        "    super().__init__(**kwargs)\n",
        "    self.activation = activation\n",
        "    self.seed = seed\n",
        "    np.random.seed(seed=seed)\n",
        "  \n",
        "  def build(self, input_shape):\n",
        "    self.units = input_shape[-1]\n",
        "    n_init = tf.random_normal_initializer()\n",
        "    self.noise = tf.Variable(\n",
        "        initial_value=n_init(shape=(self.units, self.units),\n",
        "                             dtype='float32'),\n",
        "        trainable=True)\n",
        "\n",
        "  def call(self, x):\n",
        "    noise=np.random.rand(x.shape[1])         # ノイズ生成\n",
        "    self.noise = tf.Variable(noise, dtype=tf.float32)  # テンソル演算のために変換\n",
        "\n",
        "    return self.activation(x + self.noise)  # ノイズを加算したものを活性化関数に通して出力"
      ],
      "execution_count": 25,
      "outputs": []
    },
    {
      "cell_type": "markdown",
      "metadata": {
        "id": "PekcoaIBqQtm"
      },
      "source": [
        "## モデル定義"
      ]
    },
    {
      "cell_type": "code",
      "metadata": {
        "id": "aXYxX_ckqXho",
        "outputId": "3ce201cf-eeac-463a-fbee-91e56b6ee051",
        "colab": {
          "base_uri": "https://localhost:8080/"
        }
      },
      "source": [
        "# モデルの定義。\n",
        "def noisy_model():\n",
        "  inputs = Input(shape=(32, 32, 3))\n",
        "  x = Conv2D(64, (3, 3), padding='SAME', activation='relu')(inputs)\n",
        "  x = Conv2D(64, (3, 3), padding='SAME', activation='relu')(x)\n",
        "  x = Dropout(0.25)(x)\n",
        "  x = MaxPooling2D()(x)\n",
        "\n",
        "  x = Conv2D(128, (3,3), padding='SAME', activation='relu')(x)\n",
        "  x = Conv2D(128, (3,3), padding='SAME', activation='relu')(x)\n",
        "  x = Dropout(0.25)(x)\n",
        "  x = MaxPooling2D()(x)\n",
        "\n",
        "  x = Conv2D(256, (3,3), padding='SAME', activation='relu')(x)\n",
        "  x = Conv2D(256, (3,3), padding='SAME', activation='relu')(x)\n",
        "  x = GlobalAveragePooling2D()(x)\n",
        "\n",
        "  x = Dense(1024)(x)\n",
        "  x = NoisyActivation(tf.keras.layers.ReLU(), 42)(x)\n",
        "  x = Dropout(0.25)(x)\n",
        "  y = Dense(10, activation='softmax')(x)\n",
        "\n",
        "  return Model(inputs, y)\n",
        "\n",
        "modeln = noisy_model()\n",
        "\n",
        "# モデルのコンパイル。\n",
        "modeln.compile(optimizer=tf.keras.optimizers.Adam(),\n",
        "              loss='categorical_crossentropy',\n",
        "              metrics=['accuracy'])\n",
        "modeln.summary()"
      ],
      "execution_count": 26,
      "outputs": [
        {
          "output_type": "stream",
          "name": "stdout",
          "text": [
            "Model: \"model_4\"\n",
            "_________________________________________________________________\n",
            " Layer (type)                Output Shape              Param #   \n",
            "=================================================================\n",
            " input_6 (InputLayer)        [(None, 32, 32, 3)]       0         \n",
            "                                                                 \n",
            " conv2d_30 (Conv2D)          (None, 32, 32, 64)        1792      \n",
            "                                                                 \n",
            " conv2d_31 (Conv2D)          (None, 32, 32, 64)        36928     \n",
            "                                                                 \n",
            " dropout_14 (Dropout)        (None, 32, 32, 64)        0         \n",
            "                                                                 \n",
            " max_pooling2d_10 (MaxPoolin  (None, 16, 16, 64)       0         \n",
            " g2D)                                                            \n",
            "                                                                 \n",
            " conv2d_32 (Conv2D)          (None, 16, 16, 128)       73856     \n",
            "                                                                 \n",
            " conv2d_33 (Conv2D)          (None, 16, 16, 128)       147584    \n",
            "                                                                 \n",
            " dropout_15 (Dropout)        (None, 16, 16, 128)       0         \n",
            "                                                                 \n",
            " max_pooling2d_11 (MaxPoolin  (None, 8, 8, 128)        0         \n",
            " g2D)                                                            \n",
            "                                                                 \n",
            " conv2d_34 (Conv2D)          (None, 8, 8, 256)         295168    \n",
            "                                                                 \n",
            " conv2d_35 (Conv2D)          (None, 8, 8, 256)         590080    \n",
            "                                                                 \n",
            " global_average_pooling2d_5   (None, 256)              0         \n",
            " (GlobalAveragePooling2D)                                        \n",
            "                                                                 \n",
            " dense_9 (Dense)             (None, 1024)              263168    \n",
            "                                                                 \n",
            " noisy_activation_3 (NoisyAc  (None, 1024)             1024      \n",
            " tivation)                                                       \n",
            "                                                                 \n",
            " dropout_16 (Dropout)        (None, 1024)              0         \n",
            "                                                                 \n",
            " dense_10 (Dense)            (None, 10)                10250     \n",
            "                                                                 \n",
            "=================================================================\n",
            "Total params: 1,419,850\n",
            "Trainable params: 1,419,850\n",
            "Non-trainable params: 0\n",
            "_________________________________________________________________\n"
          ]
        }
      ]
    },
    {
      "cell_type": "markdown",
      "metadata": {
        "id": "9NuJ90N8AsQZ"
      },
      "source": [
        "## 学習の実行"
      ]
    },
    {
      "cell_type": "code",
      "metadata": {
        "id": "hYkVnIT9Ak0g",
        "outputId": "c69e11e2-fa07-403c-fa14-6f64d9c666c0",
        "colab": {
          "base_uri": "https://localhost:8080/"
        }
      },
      "source": [
        "# 学習の実行。\n",
        "modeln.fit(X_train, y_train,\n",
        "          batch_size=512,\n",
        "          epochs=30,\n",
        "          validation_data=(X_test, y_test),\n",
        "          shuffle=True)"
      ],
      "execution_count": 27,
      "outputs": [
        {
          "output_type": "stream",
          "name": "stdout",
          "text": [
            "Train on 50000 samples, validate on 10000 samples\n",
            "Epoch 1/30\n",
            "50000/50000 [==============================] - ETA: 0s - loss: 2.1683 - accuracy: 0.1781"
          ]
        },
        {
          "output_type": "stream",
          "name": "stderr",
          "text": [
            "/usr/local/lib/python3.7/dist-packages/keras/engine/training_v1.py:2057: UserWarning: `Model.state_updates` will be removed in a future version. This property should not be used in TensorFlow 2.0, as `updates` are applied automatically.\n",
            "  updates = self.state_updates\n"
          ]
        },
        {
          "output_type": "stream",
          "name": "stdout",
          "text": [
            "\b\b\b\b\b\b\b\b\b\b\b\b\b\b\b\b\b\b\b\b\b\b\b\b\b\b\b\b\b\b\b\b\b\b\b\b\b\b\b\b\b\b\b\b\b\b\b\b\b\b\b\b\b\b\b\b\b\b\b\b\b\b\b\b\b\b\b\b\b\b\b\b\b\b\b\b\b\b\b\b\b\b\b\b\b\b\b\b\r50000/50000 [==============================] - 20s 390us/sample - loss: 2.1683 - accuracy: 0.1781 - val_loss: 1.8741 - val_accuracy: 0.3031\n",
            "Epoch 2/30\n",
            "50000/50000 [==============================] - 19s 383us/sample - loss: 1.6789 - accuracy: 0.3642 - val_loss: 1.5312 - val_accuracy: 0.4218\n",
            "Epoch 3/30\n",
            "50000/50000 [==============================] - 19s 381us/sample - loss: 1.4197 - accuracy: 0.4748 - val_loss: 1.5308 - val_accuracy: 0.4174\n",
            "Epoch 4/30\n",
            "50000/50000 [==============================] - 19s 384us/sample - loss: 1.2405 - accuracy: 0.5445 - val_loss: 1.3481 - val_accuracy: 0.5042\n",
            "Epoch 5/30\n",
            "50000/50000 [==============================] - 19s 384us/sample - loss: 1.1047 - accuracy: 0.5993 - val_loss: 1.1165 - val_accuracy: 0.5983\n",
            "Epoch 6/30\n",
            "50000/50000 [==============================] - 19s 384us/sample - loss: 0.9846 - accuracy: 0.6465 - val_loss: 1.0899 - val_accuracy: 0.5978\n",
            "Epoch 7/30\n",
            "50000/50000 [==============================] - 19s 386us/sample - loss: 0.8912 - accuracy: 0.6799 - val_loss: 1.0952 - val_accuracy: 0.5998\n",
            "Epoch 8/30\n",
            "50000/50000 [==============================] - 19s 385us/sample - loss: 0.8167 - accuracy: 0.7073 - val_loss: 1.0771 - val_accuracy: 0.6196\n",
            "Epoch 9/30\n",
            "50000/50000 [==============================] - 19s 385us/sample - loss: 0.7513 - accuracy: 0.7333 - val_loss: 0.8377 - val_accuracy: 0.7061\n",
            "Epoch 10/30\n",
            "50000/50000 [==============================] - 19s 384us/sample - loss: 0.6910 - accuracy: 0.7535 - val_loss: 0.7956 - val_accuracy: 0.7198\n",
            "Epoch 11/30\n",
            "50000/50000 [==============================] - 19s 384us/sample - loss: 0.6239 - accuracy: 0.7785 - val_loss: 0.7987 - val_accuracy: 0.7161\n",
            "Epoch 12/30\n",
            "50000/50000 [==============================] - 19s 384us/sample - loss: 0.5880 - accuracy: 0.7937 - val_loss: 0.8614 - val_accuracy: 0.7000\n",
            "Epoch 13/30\n",
            "50000/50000 [==============================] - 19s 384us/sample - loss: 0.5493 - accuracy: 0.8082 - val_loss: 0.6789 - val_accuracy: 0.7638\n",
            "Epoch 14/30\n",
            "50000/50000 [==============================] - 19s 384us/sample - loss: 0.4983 - accuracy: 0.8248 - val_loss: 0.6791 - val_accuracy: 0.7653\n",
            "Epoch 15/30\n",
            "50000/50000 [==============================] - 19s 384us/sample - loss: 0.4782 - accuracy: 0.8315 - val_loss: 0.6528 - val_accuracy: 0.7699\n",
            "Epoch 16/30\n",
            "50000/50000 [==============================] - 19s 384us/sample - loss: 0.4585 - accuracy: 0.8388 - val_loss: 0.6423 - val_accuracy: 0.7823\n",
            "Epoch 17/30\n",
            "50000/50000 [==============================] - 19s 385us/sample - loss: 0.4232 - accuracy: 0.8510 - val_loss: 0.6164 - val_accuracy: 0.7904\n",
            "Epoch 18/30\n",
            "50000/50000 [==============================] - 19s 384us/sample - loss: 0.4054 - accuracy: 0.8577 - val_loss: 0.6291 - val_accuracy: 0.7843\n",
            "Epoch 19/30\n",
            "50000/50000 [==============================] - 19s 385us/sample - loss: 0.3764 - accuracy: 0.8682 - val_loss: 0.5757 - val_accuracy: 0.8070\n",
            "Epoch 20/30\n",
            "50000/50000 [==============================] - 19s 384us/sample - loss: 0.3448 - accuracy: 0.8794 - val_loss: 0.5909 - val_accuracy: 0.7955\n",
            "Epoch 21/30\n",
            "50000/50000 [==============================] - 19s 384us/sample - loss: 0.3064 - accuracy: 0.8926 - val_loss: 0.6244 - val_accuracy: 0.7937\n",
            "Epoch 22/30\n",
            "50000/50000 [==============================] - 19s 384us/sample - loss: 0.2982 - accuracy: 0.8955 - val_loss: 0.6261 - val_accuracy: 0.7942\n",
            "Epoch 23/30\n",
            "50000/50000 [==============================] - 19s 385us/sample - loss: 0.2671 - accuracy: 0.9060 - val_loss: 0.6458 - val_accuracy: 0.7941\n",
            "Epoch 24/30\n",
            "50000/50000 [==============================] - 19s 384us/sample - loss: 0.2624 - accuracy: 0.9078 - val_loss: 0.6395 - val_accuracy: 0.7938\n",
            "Epoch 25/30\n",
            "50000/50000 [==============================] - 19s 384us/sample - loss: 0.2301 - accuracy: 0.9203 - val_loss: 0.5620 - val_accuracy: 0.8187\n",
            "Epoch 26/30\n",
            "50000/50000 [==============================] - 19s 385us/sample - loss: 0.2151 - accuracy: 0.9246 - val_loss: 0.5803 - val_accuracy: 0.8157\n",
            "Epoch 27/30\n",
            "50000/50000 [==============================] - 19s 385us/sample - loss: 0.1910 - accuracy: 0.9330 - val_loss: 0.5641 - val_accuracy: 0.8231\n",
            "Epoch 28/30\n",
            "50000/50000 [==============================] - 19s 384us/sample - loss: 0.1724 - accuracy: 0.9387 - val_loss: 0.6281 - val_accuracy: 0.8073\n",
            "Epoch 29/30\n",
            "50000/50000 [==============================] - 19s 384us/sample - loss: 0.1540 - accuracy: 0.9461 - val_loss: 0.5914 - val_accuracy: 0.8250\n",
            "Epoch 30/30\n",
            "50000/50000 [==============================] - 19s 384us/sample - loss: 0.1437 - accuracy: 0.9484 - val_loss: 0.6914 - val_accuracy: 0.8022\n"
          ]
        },
        {
          "output_type": "execute_result",
          "data": {
            "text/plain": [
              "<keras.callbacks.History at 0x7f81d2292910>"
            ]
          },
          "metadata": {},
          "execution_count": 27
        }
      ]
    },
    {
      "cell_type": "markdown",
      "metadata": {
        "id": "MRrec6CqAlhT"
      },
      "source": [
        "## モデルの精度評価"
      ]
    },
    {
      "cell_type": "code",
      "metadata": {
        "id": "ING1BhjUAvTH",
        "colab": {
          "base_uri": "https://localhost:8080/"
        },
        "outputId": "8f1d632a-fe88-4200-c7a4-840a5ab599cf"
      },
      "source": [
        "modeln.evaluate(X_test, y_test)"
      ],
      "execution_count": 28,
      "outputs": [
        {
          "output_type": "execute_result",
          "data": {
            "text/plain": [
              "[0.6913590540885926, 0.8022]"
            ]
          },
          "metadata": {},
          "execution_count": 28
        }
      ]
    },
    {
      "cell_type": "markdown",
      "metadata": {
        "id": "cyHAo6D4CL8s"
      },
      "source": [
        "# 敵対的攻撃"
      ]
    },
    {
      "cell_type": "markdown",
      "metadata": {
        "id": "iyFSzXUCb--B"
      },
      "source": [
        "## 非標的型攻撃としてのFGSMによる摂動を作成\n",
        "以下、この摂動を上乗せした画像のことを「敵対的画像」と呼ぶ。"
      ]
    },
    {
      "cell_type": "code",
      "metadata": {
        "id": "K12B6fnsn1GV"
      },
      "source": [
        "# 入力データの特徴量の最小値・最大値を指定。\n",
        "# 特徴量は0.0～1.0の範囲に収まるように正規化しているため、最小値は0.0、最大値は1.0とする。\n",
        "min_pixel_value = 0.0\n",
        "max_pixel_value = 1.0"
      ],
      "execution_count": 29,
      "outputs": []
    },
    {
      "cell_type": "markdown",
      "metadata": {
        "id": "CHMk4T5IoWuc"
      },
      "source": [
        "### Simple"
      ]
    },
    {
      "cell_type": "code",
      "metadata": {
        "id": "Z-1z-Rban7-c",
        "colab": {
          "base_uri": "https://localhost:8080/"
        },
        "outputId": "3db84a5d-d177-441b-c84c-04077668ef91"
      },
      "source": [
        "# モデルをART Keras Classifierでラップ。\n",
        "classifier = KerasClassifier(model=model, clip_values=(min_pixel_value, max_pixel_value), use_logits=False)\n",
        "# FGSMインスタンスの作成。\n",
        "attack = FastGradientMethod(estimator=classifier, eps=0.10, targeted=False)\n",
        "# 敵対的サンプルの生成（ベース画像はテストデータとする）。\n",
        "X_adv = attack.generate(x=X_test)"
      ],
      "execution_count": 30,
      "outputs": [
        {
          "output_type": "stream",
          "name": "stderr",
          "text": [
            "/usr/local/lib/python3.7/dist-packages/keras/engine/training_v1.py:2079: UserWarning: `Model.state_updates` will be removed in a future version. This property should not be used in TensorFlow 2.0, as `updates` are applied automatically.\n",
            "  updates=self.state_updates,\n"
          ]
        }
      ]
    },
    {
      "cell_type": "markdown",
      "metadata": {
        "id": "2FkKA55qoWud"
      },
      "source": [
        "### Noisy"
      ]
    },
    {
      "cell_type": "code",
      "metadata": {
        "id": "kDNDkKvacPJM",
        "colab": {
          "base_uri": "https://localhost:8080/"
        },
        "outputId": "8470e347-a85c-4c82-82c5-c4c1a9b2d45b"
      },
      "source": [
        "classifier_noisy = KerasClassifier(model=modeln, clip_values=(min_pixel_value, max_pixel_value), use_logits=False)\n",
        "attack_noisy = FastGradientMethod(estimator=classifier_noisy, eps=0.10, targeted=False)\n",
        "X_adv_noisy = attack_noisy.generate(X_test)"
      ],
      "execution_count": 34,
      "outputs": [
        {
          "output_type": "stream",
          "name": "stderr",
          "text": [
            "/usr/local/lib/python3.7/dist-packages/keras/engine/training_v1.py:2079: UserWarning: `Model.state_updates` will be removed in a future version. This property should not be used in TensorFlow 2.0, as `updates` are applied automatically.\n",
            "  updates=self.state_updates,\n"
          ]
        }
      ]
    },
    {
      "cell_type": "markdown",
      "metadata": {
        "id": "wqsgeVgpcwoJ"
      },
      "source": [
        "## 敵対的画像に対するモデルの精度評価"
      ]
    },
    {
      "cell_type": "markdown",
      "metadata": {
        "id": "EEmZkrVkoWud"
      },
      "source": [
        "### Simple"
      ]
    },
    {
      "cell_type": "code",
      "metadata": {
        "id": "VgplWIjECQud",
        "colab": {
          "base_uri": "https://localhost:8080/"
        },
        "outputId": "9cd84cbe-4d60-4c32-e668-4b475f56af6e"
      },
      "source": [
        "model.evaluate(X_adv, y_test)"
      ],
      "execution_count": 32,
      "outputs": [
        {
          "output_type": "execute_result",
          "data": {
            "text/plain": [
              "[8.658857342529297, 0.1051]"
            ]
          },
          "metadata": {},
          "execution_count": 32
        }
      ]
    },
    {
      "cell_type": "markdown",
      "metadata": {
        "id": "bJX2YV0zoWud"
      },
      "source": [
        "### Noisy"
      ]
    },
    {
      "cell_type": "code",
      "metadata": {
        "id": "2O14VsPkCVxY",
        "colab": {
          "base_uri": "https://localhost:8080/"
        },
        "outputId": "b090de8e-b99f-471e-9e32-2771c2355b3e"
      },
      "source": [
        "modeln.evaluate(X_adv_noisy, y_test)"
      ],
      "execution_count": 35,
      "outputs": [
        {
          "output_type": "execute_result",
          "data": {
            "text/plain": [
              "[9.232033992004395, 0.0866]"
            ]
          },
          "metadata": {},
          "execution_count": 35
        }
      ]
    },
    {
      "cell_type": "code",
      "source": [
        ""
      ],
      "metadata": {
        "id": "orx4CHhZL9IH"
      },
      "execution_count": null,
      "outputs": []
    }
  ]
}